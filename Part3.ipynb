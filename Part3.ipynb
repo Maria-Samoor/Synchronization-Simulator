{
 "cells": [
  {
   "cell_type": "markdown",
   "id": "9858bacb",
   "metadata": {},
   "source": [
    "# Part 3: Synchronization Simulator"
   ]
  },
  {
   "cell_type": "markdown",
   "id": "33cc299b",
   "metadata": {},
   "source": [
    "No Synchronization Tools"
   ]
  },
  {
   "cell_type": "code",
   "execution_count": 11,
   "id": "c8a37f78",
   "metadata": {},
   "outputs": [
    {
     "name": "stdout",
     "output_type": "stream",
     "text": [
      "Expected value: 630\n",
      "Actual value: 900\n"
     ]
    }
   ],
   "source": [
    "import threading\n",
    "import random\n",
    "import time\n",
    "# shared variable Size\n",
    "Size = 25\n",
    "# global variable x that holds the initial valu of variable size in order to calculate the expected value\n",
    "x = Size\n",
    "\n",
    "# square thread\n",
    "def square()::#square function that calculate the square of the shared variable\n",
    "    global Size\n",
    "    time.sleep(5)\n",
    "    Size=Size**2\n",
    "\n",
    "# adder thread\n",
    "def add()::#add function that calculate the value of the shared variable +5\n",
    "    global Size\n",
    "    Size += 5\n",
    "\n",
    "\n",
    "t1 = threading.Thread(target=square)#thread #1 that enter square function and operate on the shaed variable\n",
    "t2 = threading.Thread(target=add)#thread #1 that enter add function and operate on the shaed variable\n",
    "\n",
    "t1.start()#thread #1  starts\n",
    "t2.start()#thread #2  starts\n",
    "\n",
    "t1.join()#thread #1  finish\n",
    "t2.join()#thread #2  finish\n",
    "\n",
    "# Print expected and actual values\n",
    "print(\"Expected value:\", x**2+5)\n",
    "print(\"Actual value:\", Size)\n"
   ]
  },
  {
   "cell_type": "markdown",
   "id": "40160e90",
   "metadata": {},
   "source": [
    "With Synchronization Tools"
   ]
  },
  {
   "cell_type": "code",
   "execution_count": 12,
   "id": "828b5d37",
   "metadata": {},
   "outputs": [
    {
     "name": "stdout",
     "output_type": "stream",
     "text": [
      "Expected value: 630\n",
      "Actual value: 630\n"
     ]
    }
   ],
   "source": [
    "\n",
    "Size = 25\n",
    "x=Size\n",
    "# Synchronization tool mutex that lock on the shared variabke\n",
    "W_Mutex = threading.Lock()\n",
    "\n",
    "# square thread\n",
    "def square():#square function that calculate the square of the shared variable\n",
    "    global Size\n",
    "    with W_Mutex:\n",
    "        time.sleep(5)\n",
    "        Size=Size**2\n",
    "# add thread\n",
    "def add():#add function that calculate the value of the shared variable +5\n",
    "    global Size\n",
    "    with W_Mutex:\n",
    "        Size += 5\n",
    "\n",
    "\n",
    "t1 = threading.Thread(target=square)#thread #1 that enter square function and operate on the shared variable\n",
    "t2 = threading.Thread(target=add)#thread #1 that enter add function and operate on the shared variable\n",
    "\n",
    "t1.start()#thread #1  starts\n",
    "t2.start()#thread #2  starts\n",
    "\n",
    "t1.join()#thread #1  finish\n",
    "t2.join()#thread #2  finish\n",
    "\n",
    "print(\"Expected value:\", x**2+5)\n",
    "print(\"Actual value:\", Size)\n"
   ]
  },
  {
   "cell_type": "code",
   "execution_count": null,
   "id": "87b12903",
   "metadata": {},
   "outputs": [],
   "source": []
  },
  {
   "cell_type": "markdown",
   "id": "35cf5b15",
   "metadata": {},
   "source": [
    "## Second Code"
   ]
  },
  {
   "cell_type": "markdown",
   "id": "225669cb",
   "metadata": {},
   "source": [
    "No Synchronization Tools"
   ]
  },
  {
   "cell_type": "code",
   "execution_count": 7,
   "id": "2082d31a",
   "metadata": {},
   "outputs": [
    {
     "name": "stdout",
     "output_type": "stream",
     "text": [
      "Start Of Increment\n",
      "Before increment: Size = 50\n",
      "Start Of Decrement\n",
      "Before decrement: Size = 55\n",
      "After decrement: Size = 50\n",
      "Before decrement: Size = 50\n",
      "After decrement: Size = 45\n",
      "Before decrement: Size = 45\n",
      "After decrement: Size = 40\n",
      "End Of Decrement\n",
      "After increment: Size = 40\n",
      "Before increment: Size = 40\n",
      "After increment: Size = 45\n",
      "Before increment: Size = 45\n",
      "After increment: Size = 50\n",
      "End Of Increment\n",
      "No synchronization - Expected value: 50, Actual value: 50\n"
     ]
    }
   ],
   "source": [
    "import threading\n",
    "\n",
    "size = 50# shared variable\n",
    "\n",
    "\n",
    "# increment function perform increment on the shared variablr for n times where n is the number in range(n)\n",
    "def increment():\n",
    "    print(\"Start Of Increment\")#print that increment operation started \n",
    "    global size\n",
    "    for i in range(3):#loop for increment 3 times\n",
    "        print(\"Before increment: Size =\", size)#print value before increment each time\n",
    "        size += 5#value of which the shared variable incremented by \n",
    "        time.sleep(4)\n",
    "        print(\"After increment: Size =\", size)#print value after increment each time\n",
    "    print(\"End Of Increment\")#print that increment operation is done \n",
    "# increment function perform decrement on the shared variablr for n times where n is the number in range(n)\n",
    "def decrement():\n",
    "    print(\"Start Of Decrement\")#print that decrement operation started \n",
    "    global size\n",
    "    for i in range(3):#loop for decrement 3 times\n",
    "        print(\"Before decrement: Size =\", size)#print value before decrement each time\n",
    "        size -= 5 #value of which the shared variable decremented by \n",
    "        print(\"After decrement: Size =\", size)#print value after decrement each time\n",
    "    print(\"End Of Decrement\")#print that decrement operation is done \n",
    "t1 = threading.Thread(target=increment)#thread #1 that enter increment function and operate on the shared variable\n",
    "t2 = threading.Thread(target=decrement)#thread #1 that enter decrement function and operate on the shared variable\n",
    "t1.start()#thread #1  starts\n",
    "t2.start()#thread #2  starts\n",
    "\n",
    "t1.join()#thread #1  finish\n",
    "t2.join()#thread #2  finish\n",
    "\n",
    "print(\"No synchronization - Expected value: 50, Actual value:\", size)\n"
   ]
  },
  {
   "cell_type": "markdown",
   "id": "565be343",
   "metadata": {},
   "source": [
    "With Synchronization Tools"
   ]
  },
  {
   "cell_type": "code",
   "execution_count": 8,
   "id": "c82862df",
   "metadata": {},
   "outputs": [
    {
     "name": "stdout",
     "output_type": "stream",
     "text": [
      "Start Of Increment\n",
      "Before increment: Size = 50\n",
      "Start Of Decrement\n",
      "After increment: Size = 55\n",
      "Before increment: Size = 55\n",
      "After increment: Size = 60\n",
      "Before increment: Size = 60\n",
      "After increment: Size = 65\n",
      "End Of Increment\n",
      "Before decrement: Size = 65\n",
      "After decrement: Size = 60\n",
      "Before decrement: Size = 60\n",
      "After decrement: Size = 55\n",
      "Before decrement: Size = 55\n",
      "After decrement: Size = 50\n",
      "End Of Decrement\n",
      "With synchronization - Expected value: 50, Actual value: 50\n"
     ]
    }
   ],
   "source": [
    "size = 50\n",
    "#define semaphore which is a synchroniaztion way\n",
    "W_Mutex = threading.Semaphore(1)\n",
    "\n",
    "# increment function perform increment on the shared variablr for n times where n is the number in range(n)\n",
    "def increment_sync():\n",
    "    print(\"Start Of Increment\")#print that increment operation started \n",
    "    W_Mutex.acquire()#Mutex lock on the variable when it enters the loop\n",
    "    global size\n",
    "    for i in range(3):#loop for increment 3 times\n",
    "        print(\"Before increment: Size =\", size)#print value before increment each time\n",
    "        size += 5#value of which the shared variable incremented by \n",
    "        time.sleep(4)\n",
    "        print(\"After increment: Size =\", size)#print value after increment each time\n",
    "    W_Mutex.release()#Mutex release the the variable when it enters the loop\n",
    "    print(\"End Of Increment\")#print value before increment each time\n",
    "# Define decrement function\n",
    "def decrement_sync():\n",
    "    print(\"Start Of Decrement\")\n",
    "    global size\n",
    "    W_Mutex.acquire()#Mutex lock on the variable when it enters the loop\n",
    "    for i in range(3):#loop for decrement 3 times\n",
    "        print(\"Before decrement: Size =\", size)#print value before decrement each time\n",
    "        size -= 5#value of which the shared variable decremented by \n",
    "        print(\"After decrement: Size =\", size)#print value after decrement each time\n",
    "    W_Mutex.release()#Mutex release the the variable when it enters the loop\n",
    "    print(\"End Of Decrement\")#print that decrement operation is done \n",
    "t1 = threading.Thread(target=increment)#thread #1 that enter increment function and operate on the shared variable\n",
    "t2 = threading.Thread(target=decrement)#thread #1 that enter decrement function and operate on the shared variable\n",
    "t1.start()#thread #1  starts\n",
    "t2.start()#thread #2  starts\n",
    "\n",
    "t1.join()#thread #1  finish\n",
    "t2.join()#thread #2  finish\n",
    "\n",
    "# Print final result\n",
    "print(\"With synchronization - Expected value: 50, Actual value:\", size)"
   ]
  },
  {
   "cell_type": "code",
   "execution_count": null,
   "id": "5cbbc414",
   "metadata": {},
   "outputs": [],
   "source": []
  }
 ],
 "metadata": {
  "kernelspec": {
   "display_name": "Python 3 (ipykernel)",
   "language": "python",
   "name": "python3"
  },
  "language_info": {
   "codemirror_mode": {
    "name": "ipython",
    "version": 3
   },
   "file_extension": ".py",
   "mimetype": "text/x-python",
   "name": "python",
   "nbconvert_exporter": "python",
   "pygments_lexer": "ipython3",
   "version": "3.9.13"
  }
 },
 "nbformat": 4,
 "nbformat_minor": 5
}
